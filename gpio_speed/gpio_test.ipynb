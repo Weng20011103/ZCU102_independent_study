{
 "cells": [
  {
   "cell_type": "code",
   "execution_count": 1,
   "id": "26b2bc7e",
   "metadata": {},
   "outputs": [
    {
     "data": {
      "application/javascript": "\ntry {\nrequire(['notebook/js/codecell'], function(codecell) {\n  codecell.CodeCell.options_default.highlight_modes[\n      'magic_text/x-csrc'] = {'reg':[/^%%microblaze/]};\n  Jupyter.notebook.events.one('kernel_ready.Kernel', function(){\n      Jupyter.notebook.get_cells().map(function(cell){\n          if (cell.cell_type == 'code'){ cell.auto_highlight(); } }) ;\n  });\n});\n} catch (e) {};\n"
     },
     "metadata": {},
     "output_type": "display_data"
    },
    {
     "data": {
      "application/javascript": "\ntry {\nrequire(['notebook/js/codecell'], function(codecell) {\n  codecell.CodeCell.options_default.highlight_modes[\n      'magic_text/x-csrc'] = {'reg':[/^%%pybind11/]};\n  Jupyter.notebook.events.one('kernel_ready.Kernel', function(){\n      Jupyter.notebook.get_cells().map(function(cell){\n          if (cell.cell_type == 'code'){ cell.auto_highlight(); } }) ;\n  });\n});\n} catch (e) {};\n"
     },
     "metadata": {},
     "output_type": "display_data"
    }
   ],
   "source": [
    "import time\n",
    "from pynq import Overlay"
   ]
  },
  {
   "cell_type": "code",
   "execution_count": 2,
   "id": "147dd36f",
   "metadata": {},
   "outputs": [
    {
     "name": "stdout",
     "output_type": "stream",
     "text": [
      "100kHz.bit  10kHz.bit  1kHz.bit  1MHz.bit  gpio_test.ipynb\r\n",
      "100kHz.hwh  10kHz.hwh  1kHz.hwh  1MHz.hwh\r\n"
     ]
    }
   ],
   "source": [
    "!ls"
   ]
  },
  {
   "cell_type": "code",
   "execution_count": 3,
   "id": "6cda27ed",
   "metadata": {},
   "outputs": [],
   "source": [
    "overlay = Overlay('gpio.bit')\n",
    "\n",
    "overlay?\n",
    "\n",
    "data_1kHz = overlay.data_1khz\n",
    "data_10kHz = overlay.data_10khz\n",
    "data_100kHz = overlay.data_100khz\n",
    "data_1MHz = overlay.data_1mhz"
   ]
  },
  {
   "cell_type": "code",
   "execution_count": 4,
   "id": "47881515",
   "metadata": {},
   "outputs": [
    {
     "data": {
      "text/plain": [
       "RegisterMap {\n",
       "  GPIO_DATA = Register(Channel_1_GPIO_DATA=452),\n",
       "  GPIO_TRI = Register(Channel_1_GPIO_TRI=1023),\n",
       "  GPIO2_DATA = Register(Channel_2_GPIO_DATA=0),\n",
       "  GPIO2_TRI = Register(Channel_2_GPIO_TRI=4294967295),\n",
       "  GIER = Register(Global_Interrupt_Enable=1),\n",
       "  IP_ISR = Register(Channel_1_Interrupt_Status=0, Channel_2_Interrupt_Status=0),\n",
       "  IP_IER = Register(Channel_1_Interrupt_Enable=0, Channel_2_Interrupt_Enable=0)\n",
       "}"
      ]
     },
     "execution_count": 4,
     "metadata": {},
     "output_type": "execute_result"
    }
   ],
   "source": [
    "data_1kHz.register_map"
   ]
  },
  {
   "cell_type": "code",
   "execution_count": 5,
   "id": "9dd69035",
   "metadata": {},
   "outputs": [
    {
     "name": "stdout",
     "output_type": "stream",
     "text": [
      "data[0] is 448\n",
      "data[1] is 450\n",
      "data[2] is 451\n",
      "data[3] is 452\n",
      "data[4] is 453\n",
      "data[5] is 454\n",
      "data[6] is 455\n",
      "data[7] is 456\n",
      "data[8] is 457\n",
      "data[9] is 458\n"
     ]
    }
   ],
   "source": [
    "# Read data without delay\n",
    "# Print the i-th data from the data set\n",
    "for i in range (10):\n",
    "    print(f\"data_1kHz[{i}] is\", data_1kHz.read(0))\n",
    "\n",
    "for i in range (10):\n",
    "    print(f\"data_10kHz[{i}] is\", data_10kHz.read(0))\n",
    "    \n",
    "for i in range (10):\n",
    "    print(f\"data_100kHz[{i}] is\", data_100kHz.read(0))\n",
    "\n",
    "for i in range (10):\n",
    "    print(f\"data_1MHz[{i}] is\", data_1MHz.read(0))"
   ]
  },
  {
   "cell_type": "code",
   "execution_count": 6,
   "id": "7393e684",
   "metadata": {},
   "outputs": [
    {
     "name": "stdout",
     "output_type": "stream",
     "text": [
      "data[0] is 735\n",
      "data[1] is 739\n",
      "data[2] is 741\n",
      "data[3] is 742\n",
      "data[4] is 743\n",
      "data[5] is 745\n",
      "data[6] is 746\n",
      "data[7] is 749\n",
      "data[8] is 750\n",
      "data[9] is 752\n"
     ]
    }
   ],
   "source": [
    "for i in range (10):\n",
    "    # Print the i-th data from the 1kHz data set\n",
    "    print(f\"data_1kHz[{i}] is\", data_1kHz.read(0))\n",
    "    # Pause for 1 millisecond\n",
    "    time.sleep(0.001)\n",
    "\n",
    "# Print the next five data from the 1kHz data set without delay\n",
    "print(data_1kHz.read(0))\n",
    "print(data_1kHz.read(0))\n",
    "print(data_1kHz.read(0))\n",
    "print(data_1kHz.read(0))\n",
    "print(data_1kHz.read(0))"
   ]
  },
  {
   "cell_type": "code",
   "execution_count": null,
   "id": "f3a71651",
   "metadata": {
    "scrolled": false
   },
   "outputs": [],
   "source": [
    "# Assuming 'data' is a pre-defined object with a 'read' method\n",
    "for i in range(10):\n",
    "    # Get the current time in UTC+8\n",
    "    utc_8_time = time.time() + 8*3600\n",
    "    # Format the time with milliseconds\n",
    "    read_time = time.strftime('%Y-%m-%d %H:%M:%S', time.gmtime(utc_8_time)) + f'.{int((utc_8_time - int(utc_8_time)) * 1000)}'\n",
    "    print(f\"data_1kHz[{i}] is\", data_1kHz.read(0), f\"at {read_time}\")\n",
    "    # Pause for 1 millisecond\n",
    "    time.sleep(0.001)"
   ]
  },
  {
   "cell_type": "code",
   "execution_count": null,
   "id": "74bc0f1b",
   "metadata": {},
   "outputs": [],
   "source": [
    "for i in range (10):\n",
    "    # Print the i-th data from the 10kHz data set\n",
    "    print(f\"data_10kHz[{i}] is\", data_10kHz.read(0))\n",
    "    # Pause for 0.1 millisecond\n",
    "    time.sleep(0.0001)\n",
    "\n",
    "# Print the next five data from the 10kHz data set without delay\n",
    "print(data_10kHz.read(0))\n",
    "print(data_10kHz.read(0))\n",
    "print(data_10kHz.read(0))\n",
    "print(data_10kHz.read(0))\n",
    "print(data_10kHz.read(0))"
   ]
  },
  {
   "cell_type": "code",
   "execution_count": null,
   "id": "1f51d898",
   "metadata": {},
   "outputs": [],
   "source": [
    "for i in range (10):\n",
    "    # Print the i-th data from the 100kHz data set\n",
    "    print(f\"data_100kHz[{i}] is\", data_100kHz.read(0))\n",
    "    # Pause for 0.01 millisecond\n",
    "    time.sleep(0.00001)\n",
    "\n",
    "# Print the next five data from the 100kHz data set without delay\n",
    "print(data_100kHz.read(0))\n",
    "print(data_100kHz.read(0))\n",
    "print(data_100kHz.read(0))\n",
    "print(data_100kHz.read(0))\n",
    "print(data_100kHz.read(0))"
   ]
  },
  {
   "cell_type": "code",
   "execution_count": null,
   "id": "a5a1adf3",
   "metadata": {},
   "outputs": [],
   "source": [
    "for i in range (10):\n",
    "    # Print the i-th data from the 1MHz data set\n",
    "    print(f\"data_1MHz[{i}] is\", data_1MHz.read(0))\n",
    "    # Pause for 0.001 millisecond\n",
    "    time.sleep(0.000001)\n",
    "\n",
    "# Print the next five data from the 1MHz data set without delay\n",
    "print(data_1MHz.read(0))\n",
    "print(data_1MHz.read(0))\n",
    "print(data_1MHz.read(0))\n",
    "print(data_1MHz.read(0))\n",
    "print(data_1MHz.read(0))"
   ]
  }
 ],
 "metadata": {
  "kernelspec": {
   "display_name": "Python 3",
   "language": "python",
   "name": "python3"
  },
  "language_info": {
   "codemirror_mode": {
    "name": "ipython",
    "version": 3
   },
   "file_extension": ".py",
   "mimetype": "text/x-python",
   "name": "python",
   "nbconvert_exporter": "python",
   "pygments_lexer": "ipython3",
   "version": "3.8.2"
  }
 },
 "nbformat": 4,
 "nbformat_minor": 5
}
