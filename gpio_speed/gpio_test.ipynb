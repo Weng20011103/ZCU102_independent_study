{
 "cells": [
  {
   "cell_type": "code",
   "execution_count": 1,
   "id": "26b2bc7e",
   "metadata": {},
   "outputs": [
    {
     "data": {
      "application/javascript": [
       "\n",
       "try {\n",
       "require(['notebook/js/codecell'], function(codecell) {\n",
       "  codecell.CodeCell.options_default.highlight_modes[\n",
       "      'magic_text/x-csrc'] = {'reg':[/^%%microblaze/]};\n",
       "  Jupyter.notebook.events.one('kernel_ready.Kernel', function(){\n",
       "      Jupyter.notebook.get_cells().map(function(cell){\n",
       "          if (cell.cell_type == 'code'){ cell.auto_highlight(); } }) ;\n",
       "  });\n",
       "});\n",
       "} catch (e) {};\n"
      ]
     },
     "metadata": {},
     "output_type": "display_data"
    },
    {
     "data": {
      "application/javascript": [
       "\n",
       "try {\n",
       "require(['notebook/js/codecell'], function(codecell) {\n",
       "  codecell.CodeCell.options_default.highlight_modes[\n",
       "      'magic_text/x-csrc'] = {'reg':[/^%%pybind11/]};\n",
       "  Jupyter.notebook.events.one('kernel_ready.Kernel', function(){\n",
       "      Jupyter.notebook.get_cells().map(function(cell){\n",
       "          if (cell.cell_type == 'code'){ cell.auto_highlight(); } }) ;\n",
       "  });\n",
       "});\n",
       "} catch (e) {};\n"
      ]
     },
     "metadata": {},
     "output_type": "display_data"
    }
   ],
   "source": [
    "import time\n",
    "from pynq import Overlay"
   ]
  },
  {
   "cell_type": "code",
   "execution_count": 2,
   "id": "147dd36f",
   "metadata": {},
   "outputs": [
    {
     "name": "stdout",
     "output_type": "stream",
     "text": [
      "gpio.bit  gpio.hwh  gpio_test.ipynb\r\n"
     ]
    }
   ],
   "source": [
    "!ls"
   ]
  },
  {
   "cell_type": "code",
   "execution_count": 3,
   "id": "6cda27ed",
   "metadata": {},
   "outputs": [],
   "source": [
    "overlay = Overlay('gpio.bit')\n",
    "\n",
    "overlay?\n",
    "\n",
    "data_1kHz = overlay.data_1khz\n",
    "data_10kHz = overlay.data_10khz\n",
    "data_100kHz = overlay.data_100khz\n",
    "data_1MHz = overlay.data_1mhz"
   ]
  },
  {
   "cell_type": "code",
   "execution_count": 4,
   "id": "47881515",
   "metadata": {},
   "outputs": [
    {
     "data": {
      "text/plain": [
       "RegisterMap {\n",
       "  GPIO_DATA = Register(Channel_1_GPIO_DATA=647),\n",
       "  GPIO_TRI = Register(Channel_1_GPIO_TRI=1023),\n",
       "  GPIO2_DATA = Register(Channel_2_GPIO_DATA=0),\n",
       "  GPIO2_TRI = Register(Channel_2_GPIO_TRI=4294967295),\n",
       "  GIER = Register(Global_Interrupt_Enable=1),\n",
       "  IP_ISR = Register(Channel_1_Interrupt_Status=0, Channel_2_Interrupt_Status=0),\n",
       "  IP_IER = Register(Channel_1_Interrupt_Enable=0, Channel_2_Interrupt_Enable=0)\n",
       "}"
      ]
     },
     "execution_count": 4,
     "metadata": {},
     "output_type": "execute_result"
    }
   ],
   "source": [
    "data_1kHz.register_map"
   ]
  },
  {
   "cell_type": "code",
   "execution_count": 5,
   "id": "9dd69035",
   "metadata": {},
   "outputs": [
    {
     "name": "stdout",
     "output_type": "stream",
     "text": [
      "data_1kHz[0] is 425\n",
      "data_1kHz[1] is 425\n",
      "data_1kHz[2] is 426\n",
      "data_1kHz[3] is 426\n",
      "data_1kHz[4] is 426\n",
      "data_1kHz[5] is 426\n",
      "data_1kHz[6] is 426\n",
      "data_1kHz[7] is 427\n",
      "data_1kHz[8] is 427\n",
      "data_1kHz[9] is 427\n",
      "\n",
      "data_10kHz[0] is 4364\n",
      "data_10kHz[1] is 4366\n",
      "data_10kHz[2] is 4368\n",
      "data_10kHz[3] is 4370\n",
      "data_10kHz[4] is 4372\n",
      "data_10kHz[5] is 4405\n",
      "data_10kHz[6] is 4407\n",
      "data_10kHz[7] is 4409\n",
      "data_10kHz[8] is 4411\n",
      "data_10kHz[9] is 4413\n",
      "\n",
      "data_100kHz[0] is 44646\n",
      "data_100kHz[1] is 44694\n",
      "data_100kHz[2] is 44810\n",
      "data_100kHz[3] is 44829\n",
      "data_100kHz[4] is 44993\n",
      "data_100kHz[5] is 45012\n",
      "data_100kHz[6] is 45176\n",
      "data_100kHz[7] is 45196\n",
      "data_100kHz[8] is 45215\n",
      "data_100kHz[9] is 45234\n",
      "\n",
      "data_1MHz[0] is 456639\n",
      "data_1MHz[1] is 456844\n",
      "data_1MHz[2] is 457964\n",
      "data_1MHz[3] is 458155\n",
      "data_1MHz[4] is 460366\n",
      "data_1MHz[5] is 460562\n",
      "data_1MHz[6] is 460750\n",
      "data_1MHz[7] is 462559\n",
      "data_1MHz[8] is 463494\n",
      "data_1MHz[9] is 463684\n"
     ]
    }
   ],
   "source": [
    "# Read data without delay\n",
    "# Print the i-th data from the data set\n",
    "for i in range (10):\n",
    "    print(f\"data_1kHz[{i}] is\", data_1kHz.read(0))\n",
    "\n",
    "print()\n",
    "    \n",
    "for i in range (10):\n",
    "    print(f\"data_10kHz[{i}] is\", data_10kHz.read(0))\n",
    "    \n",
    "print()\n",
    "    \n",
    "for i in range (10):\n",
    "    print(f\"data_100kHz[{i}] is\", data_100kHz.read(0))\n",
    "\n",
    "print()\n",
    "    \n",
    "for i in range (10):\n",
    "    print(f\"data_1MHz[{i}] is\", data_1MHz.read(0))"
   ]
  },
  {
   "cell_type": "code",
   "execution_count": 6,
   "id": "7393e684",
   "metadata": {},
   "outputs": [
    {
     "name": "stdout",
     "output_type": "stream",
     "text": [
      "data_1kHz[0] is 294\n",
      "data_1kHz[1] is 297\n",
      "data_1kHz[2] is 298\n",
      "data_1kHz[3] is 300\n",
      "data_1kHz[4] is 302\n",
      "data_1kHz[5] is 304\n",
      "data_1kHz[6] is 305\n",
      "data_1kHz[7] is 307\n",
      "data_1kHz[8] is 308\n",
      "data_1kHz[9] is 309\n",
      "\n",
      "311\n",
      "311\n",
      "312\n",
      "313\n",
      "314\n"
     ]
    }
   ],
   "source": [
    "for i in range (10):\n",
    "    # Print the i-th data from the 1kHz data set\n",
    "    print(f\"data_1kHz[{i}] is\", data_1kHz.read(0))\n",
    "    # Pause for 1 millisecond\n",
    "    time.sleep(0.001)\n",
    "    \n",
    "print()\n",
    "\n",
    "# Print the next five data from the 1kHz data set without delay\n",
    "print(data_1kHz.read(0))\n",
    "print(data_1kHz.read(0))\n",
    "print(data_1kHz.read(0))\n",
    "print(data_1kHz.read(0))\n",
    "print(data_1kHz.read(0))"
   ]
  },
  {
   "cell_type": "code",
   "execution_count": 7,
   "id": "f3a71651",
   "metadata": {
    "scrolled": false
   },
   "outputs": [
    {
     "name": "stdout",
     "output_type": "stream",
     "text": [
      "data_1kHz[0] is 101 at 2024-04-29 13:58:00.225\n",
      "data_1kHz[1] is 104 at 2024-04-29 13:58:00.228\n",
      "data_1kHz[2] is 105 at 2024-04-29 13:58:00.230\n",
      "data_1kHz[3] is 107 at 2024-04-29 13:58:00.231\n",
      "data_1kHz[4] is 109 at 2024-04-29 13:58:00.233\n",
      "data_1kHz[5] is 110 at 2024-04-29 13:58:00.235\n",
      "data_1kHz[6] is 111 at 2024-04-29 13:58:00.236\n",
      "data_1kHz[7] is 113 at 2024-04-29 13:58:00.237\n",
      "data_1kHz[8] is 114 at 2024-04-29 13:58:00.239\n",
      "data_1kHz[9] is 116 at 2024-04-29 13:58:00.240\n"
     ]
    }
   ],
   "source": [
    "# Assuming 'data' is a pre-defined object with a 'read' method\n",
    "for i in range(10):\n",
    "    # Get the current time in UTC+8\n",
    "    utc_8_time = time.time() + 8*3600\n",
    "    # Format the time with milliseconds\n",
    "    read_time = time.strftime('%Y-%m-%d %H:%M:%S', time.gmtime(utc_8_time)) + f'.{int((utc_8_time - int(utc_8_time)) * 1000)}'\n",
    "    print(f\"data_1kHz[{i}] is\", data_1kHz.read(0), f\"at {read_time}\")\n",
    "    # Pause for 1 millisecond\n",
    "    time.sleep(0.001)"
   ]
  },
  {
   "cell_type": "code",
   "execution_count": 8,
   "id": "74bc0f1b",
   "metadata": {},
   "outputs": [
    {
     "name": "stdout",
     "output_type": "stream",
     "text": [
      "data_10kHz[0] is 5003\n",
      "data_10kHz[1] is 5026\n",
      "data_10kHz[2] is 5038\n",
      "data_10kHz[3] is 5048\n",
      "data_10kHz[4] is 5058\n",
      "data_10kHz[5] is 5068\n",
      "data_10kHz[6] is 5078\n",
      "data_10kHz[7] is 5088\n",
      "data_10kHz[8] is 5098\n",
      "data_10kHz[9] is 5108\n",
      "\n",
      "5125\n",
      "5128\n",
      "5131\n",
      "5146\n",
      "5149\n"
     ]
    }
   ],
   "source": [
    "for i in range (10):\n",
    "    # Print the i-th data from the 10kHz data set\n",
    "    print(f\"data_10kHz[{i}] is\", data_10kHz.read(0))\n",
    "    # Pause for 0.1 millisecond\n",
    "    time.sleep(0.0001)\n",
    "\n",
    "print()\n",
    "    \n",
    "# Print the next five data from the 10kHz data set without delay\n",
    "print(data_10kHz.read(0))\n",
    "print(data_10kHz.read(0))\n",
    "print(data_10kHz.read(0))\n",
    "print(data_10kHz.read(0))\n",
    "print(data_10kHz.read(0))"
   ]
  },
  {
   "cell_type": "code",
   "execution_count": 9,
   "id": "1f51d898",
   "metadata": {},
   "outputs": [
    {
     "name": "stdout",
     "output_type": "stream",
     "text": [
      "data_100kHz[0] is 80612\n",
      "data_100kHz[1] is 80871\n",
      "data_100kHz[2] is 80982\n",
      "data_100kHz[3] is 81096\n",
      "data_100kHz[4] is 81198\n",
      "data_100kHz[5] is 81296\n",
      "data_100kHz[6] is 81399\n",
      "data_100kHz[7] is 81496\n",
      "data_100kHz[8] is 81598\n",
      "data_100kHz[9] is 81704\n",
      "\n",
      "81864\n",
      "81894\n",
      "82009\n",
      "82040\n",
      "82148\n"
     ]
    }
   ],
   "source": [
    "for i in range (10):\n",
    "    # Print the i-th data from the 100kHz data set\n",
    "    print(f\"data_100kHz[{i}] is\", data_100kHz.read(0))\n",
    "    # Pause for 0.01 millisecond\n",
    "    time.sleep(0.00001)\n",
    "\n",
    "print()\n",
    "\n",
    "# Print the next five data from the 100kHz data set without delay\n",
    "print(data_100kHz.read(0))\n",
    "print(data_100kHz.read(0))\n",
    "print(data_100kHz.read(0))\n",
    "print(data_100kHz.read(0))\n",
    "print(data_100kHz.read(0))"
   ]
  },
  {
   "cell_type": "code",
   "execution_count": 10,
   "id": "a5a1adf3",
   "metadata": {},
   "outputs": [
    {
     "name": "stdout",
     "output_type": "stream",
     "text": [
      "data_1MHz[0] is 324356\n",
      "data_1MHz[1] is 327083\n",
      "data_1MHz[2] is 328357\n",
      "data_1MHz[3] is 329399\n",
      "data_1MHz[4] is 330417\n",
      "data_1MHz[5] is 331439\n",
      "data_1MHz[6] is 332443\n",
      "data_1MHz[7] is 333440\n",
      "data_1MHz[8] is 334432\n",
      "data_1MHz[9] is 335448\n",
      "\n",
      "337088\n",
      "337386\n",
      "338489\n",
      "338771\n",
      "339854\n"
     ]
    }
   ],
   "source": [
    "for i in range (10):\n",
    "    # Print the i-th data from the 1MHz data set\n",
    "    print(f\"data_1MHz[{i}] is\", data_1MHz.read(0))\n",
    "    # Pause for 0.001 millisecond\n",
    "    time.sleep(0.000001)\n",
    "\n",
    "print()\n",
    "    \n",
    "# Print the next five data from the 1MHz data set without delay\n",
    "print(data_1MHz.read(0))\n",
    "print(data_1MHz.read(0))\n",
    "print(data_1MHz.read(0))\n",
    "print(data_1MHz.read(0))\n",
    "print(data_1MHz.read(0))"
   ]
  }
 ],
 "metadata": {
  "kernelspec": {
   "display_name": "Python 3",
   "language": "python",
   "name": "python3"
  },
  "language_info": {
   "codemirror_mode": {
    "name": "ipython",
    "version": 3
   },
   "file_extension": ".py",
   "mimetype": "text/x-python",
   "name": "python",
   "nbconvert_exporter": "python",
   "pygments_lexer": "ipython3",
   "version": "3.8.2"
  }
 },
 "nbformat": 4,
 "nbformat_minor": 5
}
